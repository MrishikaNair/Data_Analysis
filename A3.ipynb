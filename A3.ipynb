{
 "cells": [
  {
   "cell_type": "code",
   "execution_count": 1,
   "id": "9cd6b96e-8899-497d-8988-eaf09ad50e4c",
   "metadata": {
    "tags": []
   },
   "outputs": [],
   "source": [
    "import pickle\n",
    "\n",
    "with open(\"results_components.pkl\", 'rb') as file:\n",
    "    df_final = pickle.load(file)"
   ]
  },
  {
   "cell_type": "code",
   "execution_count": 5,
   "id": "3f98f484-f5e5-4e52-9fa1-2c12e3d0fb6f",
   "metadata": {
    "tags": []
   },
   "outputs": [
    {
     "data": {
      "text/html": [
       "<div>\n",
       "<style scoped>\n",
       "    .dataframe tbody tr th:only-of-type {\n",
       "        vertical-align: middle;\n",
       "    }\n",
       "\n",
       "    .dataframe tbody tr th {\n",
       "        vertical-align: top;\n",
       "    }\n",
       "\n",
       "    .dataframe thead th {\n",
       "        text-align: right;\n",
       "    }\n",
       "</style>\n",
       "<table border=\"1\" class=\"dataframe\">\n",
       "  <thead>\n",
       "    <tr style=\"text-align: right;\">\n",
       "      <th></th>\n",
       "      <th>Publication Venue</th>\n",
       "      <th>Authors</th>\n",
       "      <th>Authors_N</th>\n",
       "    </tr>\n",
       "  </thead>\n",
       "  <tbody>\n",
       "    <tr>\n",
       "      <th>1040</th>\n",
       "      <td>Journal of Computational Physics</td>\n",
       "      <td>[M Berger, P Collela, M Berger, J Oliger, A Kh...</td>\n",
       "      <td>1884</td>\n",
       "    </tr>\n",
       "    <tr>\n",
       "      <th>1045</th>\n",
       "      <td>Computer Architecture (ISCA), 2016 ACM/IEEE 43...</td>\n",
       "      <td>[J Albericio, P Judd, T Hetherington, T Aamodt...</td>\n",
       "      <td>1087</td>\n",
       "    </tr>\n",
       "    <tr>\n",
       "      <th>578</th>\n",
       "      <td>Behaviour &amp; Information Technology</td>\n",
       "      <td>[J Preece, R William Soukoreff, I Scott Macken...</td>\n",
       "      <td>679</td>\n",
       "    </tr>\n",
       "    <tr>\n",
       "      <th>571</th>\n",
       "      <td>Methodological implications of social media as...</td>\n",
       "      <td>[H Pousti, C Urquhart, F Burstein, H Linger, W...</td>\n",
       "      <td>1327</td>\n",
       "    </tr>\n",
       "    <tr>\n",
       "      <th>702</th>\n",
       "      <td>Proceedings of the 42nd International Conferen...</td>\n",
       "      <td>[V Van Der Veen, Jonathan Ho, Xi Chen, Aravind...</td>\n",
       "      <td>750</td>\n",
       "    </tr>\n",
       "    <tr>\n",
       "      <th>2121</th>\n",
       "      <td>IEEE Trans. Wireless Commun</td>\n",
       "      <td>[H BÃ¶lcskei, R U Nabar, Ã– Oyman, A J Paulraj...</td>\n",
       "      <td>1652</td>\n",
       "    </tr>\n",
       "    <tr>\n",
       "      <th>4743</th>\n",
       "      <td>IEEE Trans. Inf. Theory</td>\n",
       "      <td>[A F Dana, B Hassibi, T Cover, A El Gamal, G K...</td>\n",
       "      <td>2868</td>\n",
       "    </tr>\n",
       "    <tr>\n",
       "      <th>776</th>\n",
       "      <td>Computer Science and Information Technology</td>\n",
       "      <td>[L Yuan, B Yang, S Ma, B Cen, K A Otunaiya, G ...</td>\n",
       "      <td>676</td>\n",
       "    </tr>\n",
       "    <tr>\n",
       "      <th>750</th>\n",
       "      <td>Controlling perceptual factors in neural style...</td>\n",
       "      <td>[L A Gatys, A S Ecker, M Bethge, A Hertzmann, ...</td>\n",
       "      <td>598</td>\n",
       "    </tr>\n",
       "    <tr>\n",
       "      <th>1183</th>\n",
       "      <td>Learning to Hash with Binary Deep Neural Network</td>\n",
       "      <td>[T.-T Do, A.-D Doan, N.-M Cheung, J H Reif, A ...</td>\n",
       "      <td>1017</td>\n",
       "    </tr>\n",
       "    <tr>\n",
       "      <th>4109</th>\n",
       "      <td>AAAI Spring Sympo sium Series Wo rkshop on Rob...</td>\n",
       "      <td>[Andress Kak, Lopez-Abadia ; â€¢ A C Kak, K M ...</td>\n",
       "      <td>1106</td>\n",
       "    </tr>\n",
       "    <tr>\n",
       "      <th>927</th>\n",
       "      <td>IEEE Transactions on Information Theory</td>\n",
       "      <td>[R J Solomonoff, T M Cover, P Hart, L GyÃ¶rfi,...</td>\n",
       "      <td>2725</td>\n",
       "    </tr>\n",
       "    <tr>\n",
       "      <th>777</th>\n",
       "      <td>Joint studentteacher learning for audio-visual...</td>\n",
       "      <td>[C Hori, A Cherian, T K Marks, T Hori, Y Shen,...</td>\n",
       "      <td>1188</td>\n",
       "    </tr>\n",
       "    <tr>\n",
       "      <th>10171</th>\n",
       "      <td>IEEE Conferences on Networking and Media Conve...</td>\n",
       "      <td>[T F Ghanem, W S Elkiliani, M Hadhoud, R Rifki...</td>\n",
       "      <td>4932</td>\n",
       "    </tr>\n",
       "    <tr>\n",
       "      <th>361</th>\n",
       "      <td>Regression shrinkage and selection via the lasso</td>\n",
       "      <td>[R Tibshirani, Yoon Kim, Chris Dyer, Alexander...</td>\n",
       "      <td>1191</td>\n",
       "    </tr>\n",
       "  </tbody>\n",
       "</table>\n",
       "</div>"
      ],
      "text/plain": [
       "                                       Publication Venue  \\\n",
       "1040                    Journal of Computational Physics   \n",
       "1045   Computer Architecture (ISCA), 2016 ACM/IEEE 43...   \n",
       "578                   Behaviour & Information Technology   \n",
       "571    Methodological implications of social media as...   \n",
       "702    Proceedings of the 42nd International Conferen...   \n",
       "2121                         IEEE Trans. Wireless Commun   \n",
       "4743                             IEEE Trans. Inf. Theory   \n",
       "776          Computer Science and Information Technology   \n",
       "750    Controlling perceptual factors in neural style...   \n",
       "1183    Learning to Hash with Binary Deep Neural Network   \n",
       "4109   AAAI Spring Sympo sium Series Wo rkshop on Rob...   \n",
       "927              IEEE Transactions on Information Theory   \n",
       "777    Joint studentteacher learning for audio-visual...   \n",
       "10171  IEEE Conferences on Networking and Media Conve...   \n",
       "361     Regression shrinkage and selection via the lasso   \n",
       "\n",
       "                                                 Authors  Authors_N  \n",
       "1040   [M Berger, P Collela, M Berger, J Oliger, A Kh...       1884  \n",
       "1045   [J Albericio, P Judd, T Hetherington, T Aamodt...       1087  \n",
       "578    [J Preece, R William Soukoreff, I Scott Macken...        679  \n",
       "571    [H Pousti, C Urquhart, F Burstein, H Linger, W...       1327  \n",
       "702    [V Van Der Veen, Jonathan Ho, Xi Chen, Aravind...        750  \n",
       "2121   [H BÃ¶lcskei, R U Nabar, Ã– Oyman, A J Paulraj...       1652  \n",
       "4743   [A F Dana, B Hassibi, T Cover, A El Gamal, G K...       2868  \n",
       "776    [L Yuan, B Yang, S Ma, B Cen, K A Otunaiya, G ...        676  \n",
       "750    [L A Gatys, A S Ecker, M Bethge, A Hertzmann, ...        598  \n",
       "1183   [T.-T Do, A.-D Doan, N.-M Cheung, J H Reif, A ...       1017  \n",
       "4109   [Andress Kak, Lopez-Abadia ; â€¢ A C Kak, K M ...       1106  \n",
       "927    [R J Solomonoff, T M Cover, P Hart, L GyÃ¶rfi,...       2725  \n",
       "777    [C Hori, A Cherian, T K Marks, T Hori, Y Shen,...       1188  \n",
       "10171  [T F Ghanem, W S Elkiliani, M Hadhoud, R Rifki...       4932  \n",
       "361    [R Tibshirani, Yoon Kim, Chris Dyer, Alexander...       1191  "
      ]
     },
     "execution_count": 5,
     "metadata": {},
     "output_type": "execute_result"
    }
   ],
   "source": [
    "df_final.sort_values(by='Authors_N', ascending=False).head(60).sample(15, random_state=100)"
   ]
  },
  {
   "cell_type": "code",
   "execution_count": 181,
   "id": "178b0c6b-da6e-4a02-b43d-657d20245f89",
   "metadata": {
    "tags": []
   },
   "outputs": [],
   "source": [
    "from kafka import KafkaProducer, KafkaConsumer\n",
    "import json\n",
    "\n",
    "# Set up Kafka producer\n",
    "producer = KafkaProducer(\n",
    "    bootstrap_servers='127.0.0.1:9092',\n",
    "    value_serializer=lambda v: json.dumps(v).encode('utf-8')\n",
    ")\n",
    "\n",
    "# Set up Kafka consumer\n",
    "consumer = KafkaConsumer(\n",
    "    bootstrap_servers='127.0.0.1:9092',\n",
    "    value_deserializer=lambda m: json.loads(m.decode('utf-8')),\n",
    "    auto_offset_reset='earliest',\n",
    "    enable_auto_commit=True,\n",
    "    group_id='bda'\n",
    ")"
   ]
  },
  {
   "cell_type": "code",
   "execution_count": 20,
   "id": "8651de26-1495-4e22-93e0-cba9e620c6fa",
   "metadata": {
    "tags": []
   },
   "outputs": [],
   "source": [
    "data = {}\n",
    "\n",
    "for record in df_final.to_dict('records'):\n",
    "    venue = record['Publication Venue']\n",
    "    authors = record['Authors']\n",
    "    data[venue] = authors"
   ]
  },
  {
   "cell_type": "code",
   "execution_count": 108,
   "id": "31f8bafa-f74c-45d8-81a3-27d798e81974",
   "metadata": {
    "tags": []
   },
   "outputs": [
    {
     "data": {
      "text/plain": [
       "0"
      ]
     },
     "execution_count": 108,
     "metadata": {},
     "output_type": "execute_result"
    }
   ],
   "source": [
    "publications_sample = list(data.keys())[:]\n",
    "len(df_final.to_dict('records')) - len(set(df_final[\"Publication Venue\"]))"
   ]
  },
  {
   "cell_type": "markdown",
   "id": "4542670a-35af-4072-9fbf-795a1fca22fe",
   "metadata": {},
   "source": [
    "# Question 1"
   ]
  },
  {
   "cell_type": "code",
   "execution_count": 103,
   "id": "638dcc80-f3fe-45d8-80de-81ed5344e580",
   "metadata": {
    "tags": []
   },
   "outputs": [],
   "source": [
    "# https://stackoverflow.com/questions/28096761/implementing-flajolet-and-martin-s-algorithm-in-python\n",
    "import mmh3\n",
    "import math\n",
    "\n",
    "def flajolet_martin(authors):\n",
    "    def trailing_zeros(n):\n",
    "        count = 0\n",
    "        while (n & 1) == 0:\n",
    "            n //= 2\n",
    "            count += 1\n",
    "        return count\n",
    "\n",
    "    num_hashes = 4\n",
    "    max_zeros = [0] * num_hashes\n",
    "\n",
    "    for author in authors:\n",
    "        for i in range(num_hashes):\n",
    "            h = mmh3.hash(author, i)\n",
    "            max_zeros[i] = max(max_zeros[i], trailing_zeros(h))\n",
    "\n",
    "    return sum([2 ** m for m in max_zeros]) / num_hashes"
   ]
  },
  {
   "cell_type": "code",
   "execution_count": 235,
   "id": "a8136742-ad96-4a76-b8de-3eb00d7bf783",
   "metadata": {
    "tags": []
   },
   "outputs": [
    {
     "data": {
      "application/vnd.jupyter.widget-view+json": {
       "model_id": "55ee46f4cc9b408eac7b32d8ec2cfd8b",
       "version_major": 2,
       "version_minor": 0
      },
      "text/plain": [
       "  0%|          | 0/1113 [00:00<?, ?it/s]"
      ]
     },
     "metadata": {},
     "output_type": "display_data"
    }
   ],
   "source": [
    "import re\n",
    "import pandas as pd\n",
    "from tqdm.notebook import tqdm\n",
    "\n",
    "def clean_topic_name(topic):\n",
    "    return re.sub('[^A-Za-z0-9._-]', '_', topic)[:240] # Upper limit for topic name in kafka\n",
    "\n",
    "authors_count = []\n",
    "\n",
    "for publication in tqdm(publications_sample):\n",
    "    cleaned_publication = clean_topic_name(publication)\n",
    "    timeout = 60\n",
    "\n",
    "    # Consumer Initialize\n",
    "    consumer.subscribe([cleaned_publication])\n",
    "\n",
    "    # Producer Send\n",
    "    authors = data[publication]\n",
    "    producer.send(cleaned_publication, authors)\n",
    "\n",
    "    # Consumer receive\n",
    "    message = consumer.poll(timeout)\n",
    "    if message is None or len(message) == 0:\n",
    "        continue\n",
    "    else:\n",
    "        for tp, messages in message.items():\n",
    "            for msg in messages:\n",
    "                authors = msg.value\n",
    "                unique_authors_estimate = flajolet_martin(authors)\n",
    "\n",
    "                info = {}\n",
    "                info['Publication Venue'] = msg.topic\n",
    "                info['Unique Authors Count'] = unique_authors_estimate\n",
    "                authors_count.append(info)\n",
    "                break"
   ]
  },
  {
   "cell_type": "markdown",
   "id": "5d72848c-fc98-4040-9045-1167a103f25b",
   "metadata": {},
   "source": [
    "# Question 1 Results"
   ]
  },
  {
   "cell_type": "code",
   "execution_count": 236,
   "id": "a9ada31d-c4ea-41f4-b0e8-b7e62ffe06a2",
   "metadata": {
    "tags": []
   },
   "outputs": [
    {
     "data": {
      "text/html": [
       "<div>\n",
       "<style scoped>\n",
       "    .dataframe tbody tr th:only-of-type {\n",
       "        vertical-align: middle;\n",
       "    }\n",
       "\n",
       "    .dataframe tbody tr th {\n",
       "        vertical-align: top;\n",
       "    }\n",
       "\n",
       "    .dataframe thead th {\n",
       "        text-align: right;\n",
       "    }\n",
       "</style>\n",
       "<table border=\"1\" class=\"dataframe\">\n",
       "  <thead>\n",
       "    <tr style=\"text-align: right;\">\n",
       "      <th></th>\n",
       "      <th>Publication Venue</th>\n",
       "      <th>Unique Authors Count</th>\n",
       "    </tr>\n",
       "  </thead>\n",
       "  <tbody>\n",
       "    <tr>\n",
       "      <th>0</th>\n",
       "      <td>J_Numer_Math</td>\n",
       "      <td>20.4</td>\n",
       "    </tr>\n",
       "    <tr>\n",
       "      <th>1</th>\n",
       "      <td>CugLM_Model</td>\n",
       "      <td>8.4</td>\n",
       "    </tr>\n",
       "    <tr>\n",
       "      <th>2</th>\n",
       "      <td>Accounting_for_unobserved_confounding_in_domai...</td>\n",
       "      <td>65.6</td>\n",
       "    </tr>\n",
       "    <tr>\n",
       "      <th>3</th>\n",
       "      <td>International_Journal_of_Project_Management</td>\n",
       "      <td>84.8</td>\n",
       "    </tr>\n",
       "    <tr>\n",
       "      <th>4</th>\n",
       "      <td>Bayesian_recurrent_neural_networks</td>\n",
       "      <td>56.0</td>\n",
       "    </tr>\n",
       "    <tr>\n",
       "      <th>...</th>\n",
       "      <td>...</td>\n",
       "      <td>...</td>\n",
       "    </tr>\n",
       "    <tr>\n",
       "      <th>9563</th>\n",
       "      <td>International_Journal_on_Document_Analysis_and...</td>\n",
       "      <td>17.6</td>\n",
       "    </tr>\n",
       "    <tr>\n",
       "      <th>9564</th>\n",
       "      <td>IEEE_transactions_on_evolutionary_computation</td>\n",
       "      <td>889.6</td>\n",
       "    </tr>\n",
       "    <tr>\n",
       "      <th>9565</th>\n",
       "      <td>Math._Model</td>\n",
       "      <td>16.0</td>\n",
       "    </tr>\n",
       "    <tr>\n",
       "      <th>9566</th>\n",
       "      <td>Proceedings_of_the_29th_ACM_International_Conf...</td>\n",
       "      <td>13.6</td>\n",
       "    </tr>\n",
       "    <tr>\n",
       "      <th>9567</th>\n",
       "      <td>Divide_and_conquer__Question-guided_spatiotemp...</td>\n",
       "      <td>4.8</td>\n",
       "    </tr>\n",
       "  </tbody>\n",
       "</table>\n",
       "<p>9568 rows × 2 columns</p>\n",
       "</div>"
      ],
      "text/plain": [
       "                                      Publication Venue  Unique Authors Count\n",
       "0                                          J_Numer_Math                  20.4\n",
       "1                                           CugLM_Model                   8.4\n",
       "2     Accounting_for_unobserved_confounding_in_domai...                  65.6\n",
       "3           International_Journal_of_Project_Management                  84.8\n",
       "4                    Bayesian_recurrent_neural_networks                  56.0\n",
       "...                                                 ...                   ...\n",
       "9563  International_Journal_on_Document_Analysis_and...                  17.6\n",
       "9564      IEEE_transactions_on_evolutionary_computation                 889.6\n",
       "9565                                        Math._Model                  16.0\n",
       "9566  Proceedings_of_the_29th_ACM_International_Conf...                  13.6\n",
       "9567  Divide_and_conquer__Question-guided_spatiotemp...                   4.8\n",
       "\n",
       "[9568 rows x 2 columns]"
      ]
     },
     "execution_count": 236,
     "metadata": {},
     "output_type": "execute_result"
    }
   ],
   "source": [
    "unique_authors_df = pd.DataFrame(authors_count)\n",
    "unique_authors_df"
   ]
  },
  {
   "cell_type": "code",
   "execution_count": 237,
   "id": "f777bd7d-543c-4015-b09c-b6aa839491ae",
   "metadata": {
    "tags": []
   },
   "outputs": [],
   "source": [
    "import pickle\n",
    "\n",
    "with open(\"unique_authors.pkl\", 'wb') as file:\n",
    "    pickle.dump(unique_authors_df, file, protocol=pickle.HIGHEST_PROTOCOL)"
   ]
  },
  {
   "cell_type": "code",
   "execution_count": 115,
   "id": "ef6f62e5-5afd-4a4f-b508-3fd386ff19e8",
   "metadata": {
    "tags": []
   },
   "outputs": [],
   "source": [
    "import pickle\n",
    "\n",
    "with open(\"unique_authors.pkl\", 'rb') as file:\n",
    "    unique_authors_df = pickle.load(file)\n",
    "\n",
    "with open(\"citations_df.pkl\", 'rb') as file:\n",
    "    citations_df = pickle.load(file)"
   ]
  },
  {
   "cell_type": "code",
   "execution_count": 226,
   "id": "deedb1f0-3db9-4642-84cf-2a7b4e59905e",
   "metadata": {
    "tags": []
   },
   "outputs": [],
   "source": [
    "citations = citations_df.to_dict('records')"
   ]
  },
  {
   "cell_type": "markdown",
   "id": "7e83934e-6004-4a77-99d2-0df569b83721",
   "metadata": {},
   "source": [
    "# Question 2"
   ]
  },
  {
   "cell_type": "code",
   "execution_count": 212,
   "id": "544a0aa9-701a-44ce-a8a0-365c7b354c85",
   "metadata": {
    "tags": []
   },
   "outputs": [],
   "source": [
    "from collections import deque\n",
    "\n",
    "class DGIM:\n",
    "    def __init__(self, window_size):\n",
    "        self.window_size = window_size\n",
    "        self.buckets = deque()\n",
    "\n",
    "    def update(self, value):\n",
    "        if value == 1:\n",
    "            self.buckets.appendleft(1)\n",
    "\n",
    "        # Merge buckets\n",
    "        count = 0\n",
    "        temp_buckets = self.buckets.copy()\n",
    "        for i, b in enumerate(temp_buckets):\n",
    "            count += b\n",
    "            if count > self.window_size:\n",
    "                self.buckets.pop()\n",
    "\n",
    "            if i < len(temp_buckets) - 1 and temp_buckets[i] == temp_buckets[i + 1]:\n",
    "                self.buckets[i + 1] = self.buckets[i] + self.buckets[i + 1]\n",
    "                self.buckets.popleft()\n",
    "\n",
    "    def query(self):\n",
    "        return sum(self.buckets)"
   ]
  },
  {
   "cell_type": "code",
   "execution_count": 229,
   "id": "b8202a36-bf9e-40a0-9bb0-a1cc933a544d",
   "metadata": {
    "tags": []
   },
   "outputs": [],
   "source": [
    "from collections import defaultdict\n",
    "\n",
    "# Initialize DGIM for each publication venue\n",
    "dgim_dict = defaultdict(lambda: DGIM(500))\n",
    "\n",
    "# Process the last 500 citations\n",
    "for citation in citations[-500:]:\n",
    "    venue = citation['Publication Venue']\n",
    "    cleaned_venue = clean_topic_name(venue)\n",
    "\n",
    "    # Update DGIM for the current publication venue\n",
    "    dgim = dgim_dict[cleaned_venue]\n",
    "    dgim.update(1)\n",
    "\n",
    "# Calculate cited counts for each publication venue\n",
    "venues_cited_count = []\n",
    "for venue, dgim in dgim_dict.items():\n",
    "    info = {}\n",
    "    info['Publication Venue'] = venue\n",
    "    info['Venue Cited Count'] = dgim.query()\n",
    "    venues_cited_count.append(info)"
   ]
  },
  {
   "cell_type": "code",
   "execution_count": 234,
   "id": "61c11b81-9c5f-4b87-bf0f-cc04091632f1",
   "metadata": {
    "tags": []
   },
   "outputs": [
    {
     "data": {
      "text/html": [
       "<div>\n",
       "<style scoped>\n",
       "    .dataframe tbody tr th:only-of-type {\n",
       "        vertical-align: middle;\n",
       "    }\n",
       "\n",
       "    .dataframe tbody tr th {\n",
       "        vertical-align: top;\n",
       "    }\n",
       "\n",
       "    .dataframe thead th {\n",
       "        text-align: right;\n",
       "    }\n",
       "</style>\n",
       "<table border=\"1\" class=\"dataframe\">\n",
       "  <thead>\n",
       "    <tr style=\"text-align: right;\">\n",
       "      <th></th>\n",
       "      <th>Publication Venue</th>\n",
       "      <th>Venue Cited Count</th>\n",
       "    </tr>\n",
       "  </thead>\n",
       "  <tbody>\n",
       "    <tr>\n",
       "      <th>195</th>\n",
       "      <td>Quantum_Information_Processing</td>\n",
       "      <td>64</td>\n",
       "    </tr>\n",
       "    <tr>\n",
       "      <th>147</th>\n",
       "      <td>International_Conference_on_Learning_Represent...</td>\n",
       "      <td>22</td>\n",
       "    </tr>\n",
       "    <tr>\n",
       "      <th>149</th>\n",
       "      <td>Advances_in_Neural_Information_Processing_Systems</td>\n",
       "      <td>22</td>\n",
       "    </tr>\n",
       "    <tr>\n",
       "      <th>189</th>\n",
       "      <td>Physical_Review_A</td>\n",
       "      <td>15</td>\n",
       "    </tr>\n",
       "    <tr>\n",
       "      <th>203</th>\n",
       "      <td>International_Journal_of_Quantum_Information</td>\n",
       "      <td>10</td>\n",
       "    </tr>\n",
       "    <tr>\n",
       "      <th>...</th>\n",
       "      <td>...</td>\n",
       "      <td>...</td>\n",
       "    </tr>\n",
       "    <tr>\n",
       "      <th>126</th>\n",
       "      <td>Computational_Complexity__A_Modern_Approach</td>\n",
       "      <td>1</td>\n",
       "    </tr>\n",
       "    <tr>\n",
       "      <th>125</th>\n",
       "      <td>Econometrica</td>\n",
       "      <td>1</td>\n",
       "    </tr>\n",
       "    <tr>\n",
       "      <th>124</th>\n",
       "      <td>Evolutionary_Computation</td>\n",
       "      <td>1</td>\n",
       "    </tr>\n",
       "    <tr>\n",
       "      <th>123</th>\n",
       "      <td>Proc._IEEE_Conf._Systems__Man_and_Cybernetics</td>\n",
       "      <td>1</td>\n",
       "    </tr>\n",
       "    <tr>\n",
       "      <th>360</th>\n",
       "      <td>EBioMedicine</td>\n",
       "      <td>1</td>\n",
       "    </tr>\n",
       "  </tbody>\n",
       "</table>\n",
       "<p>361 rows × 2 columns</p>\n",
       "</div>"
      ],
      "text/plain": [
       "                                     Publication Venue  Venue Cited Count\n",
       "195                     Quantum_Information_Processing                 64\n",
       "147  International_Conference_on_Learning_Represent...                 22\n",
       "149  Advances_in_Neural_Information_Processing_Systems                 22\n",
       "189                                  Physical_Review_A                 15\n",
       "203       International_Journal_of_Quantum_Information                 10\n",
       "..                                                 ...                ...\n",
       "126        Computational_Complexity__A_Modern_Approach                  1\n",
       "125                                       Econometrica                  1\n",
       "124                           Evolutionary_Computation                  1\n",
       "123      Proc._IEEE_Conf._Systems__Man_and_Cybernetics                  1\n",
       "360                                       EBioMedicine                  1\n",
       "\n",
       "[361 rows x 2 columns]"
      ]
     },
     "execution_count": 234,
     "metadata": {},
     "output_type": "execute_result"
    }
   ],
   "source": [
    "venues_cited_count_df = pd.DataFrame(venues_cited_count).sort_values(by='Venue Cited Count', ascending=False)\n",
    "venues_cited_count_df"
   ]
  },
  {
   "cell_type": "code",
   "execution_count": 206,
   "id": "ee838352-c5f4-4e15-848d-8a71a3c22faa",
   "metadata": {
    "tags": []
   },
   "outputs": [],
   "source": [
    "import pickle\n",
    "\n",
    "with open(\"venues_cited_count.pkl\", 'wb') as file:\n",
    "    pickle.dump(venues_cited_count_df, file, protocol=pickle.HIGHEST_PROTOCOL)"
   ]
  },
  {
   "cell_type": "markdown",
   "id": "f68d6cc6-c934-4e01-a44a-f3e19af0852c",
   "metadata": {},
   "source": [
    "#### As a stream"
   ]
  },
  {
   "cell_type": "code",
   "execution_count": null,
   "id": "ea74045a-d8cc-457a-9838-1e8bb60491ce",
   "metadata": {},
   "outputs": [],
   "source": [
    "from collections import deque, defaultdict\n",
    "from kafka import KafkaConsumer\n",
    "import json\n",
    "\n",
    "# Initialize a Kafka consumer\n",
    "consumer = KafkaConsumer(\n",
    "    'citations',\n",
    "    bootstrap_servers=['localhost:9092'],\n",
    "    value_deserializer=lambda m: json.loads(m.decode('utf-8'))\n",
    ")\n",
    "\n",
    "# Initialize data structures\n",
    "venue_cited_counts = defaultdict(int)\n",
    "venue_cited_counts_history = []\n",
    "last_500_citations = deque(maxlen=500)\n",
    "\n",
    "# Process incoming citations\n",
    "for message in consumer:\n",
    "    citation = message.value\n",
    "    venue = citation['Publication Venue']\n",
    "    cleaned_venue = clean_topic_name(venue)\n",
    "\n",
    "    # Add the current citation to the last 500 citations\n",
    "    last_500_citations.append(cleaned_venue)\n",
    "\n",
    "    # Update venue_cited_counts\n",
    "    venue_cited_counts[cleaned_venue] += 1\n",
    "\n",
    "    # If the deque is full, we need to remove the oldest citation's count\n",
    "    if len(last_500_citations) == 500:\n",
    "        oldest_venue = last_500_citations[0]\n",
    "        venue_cited_counts[oldest_venue] -= 1\n",
    "\n",
    "    # Append the current venue_cited_counts to the history\n",
    "    venue_cited_counts_history.append(dict(venue_cited_counts))"
   ]
  },
  {
   "cell_type": "code",
   "execution_count": 233,
   "id": "15d542f3-3ac4-484e-9424-478446498288",
   "metadata": {
    "tags": []
   },
   "outputs": [],
   "source": [
    "import pickle\n",
    "\n",
    "with open(\"venues_cited_count.pkl\", 'rb') as file:\n",
    "    venues_cited_count_df = pickle.load(file)"
   ]
  }
 ],
 "metadata": {
  "kernelspec": {
   "display_name": "Python 3 (ipykernel)",
   "language": "python",
   "name": "python3"
  },
  "language_info": {
   "codemirror_mode": {
    "name": "ipython",
    "version": 3
   },
   "file_extension": ".py",
   "mimetype": "text/x-python",
   "name": "python",
   "nbconvert_exporter": "python",
   "pygments_lexer": "ipython3",
   "version": "3.10.10"
  }
 },
 "nbformat": 4,
 "nbformat_minor": 5
}
