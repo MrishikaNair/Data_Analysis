{
 "cells": [
  {
   "cell_type": "code",
   "execution_count": 1,
   "id": "23f125a4",
   "metadata": {
    "tags": []
   },
   "outputs": [
    {
     "data": {
      "text/plain": [
       "4"
      ]
     },
     "execution_count": 1,
     "metadata": {},
     "output_type": "execute_result"
    }
   ],
   "source": [
    "2+2"
   ]
  },
  {
   "cell_type": "code",
   "execution_count": 2,
   "id": "84846397",
   "metadata": {
    "tags": []
   },
   "outputs": [],
   "source": [
    "import pickle\n",
    "import pandas as pd\n",
    "import numpy as np\n",
    "import os\n",
    "from tqdm import notebook\n",
    "from tqdm import tqdm as tq\n",
    "\n",
    "pd.set_option('display.max_colwidth', 100)\n",
    "\n",
    "shingling_parameter = 4\n",
    "spark_similarity_thresh = 0.85\n",
    "numHashTables = 1"
   ]
  },
  {
   "cell_type": "code",
   "execution_count": 3,
   "id": "2d1ee82f",
   "metadata": {
    "tags": []
   },
   "outputs": [
    {
     "data": {
      "text/html": [
       "<div>\n",
       "<style scoped>\n",
       "    .dataframe tbody tr th:only-of-type {\n",
       "        vertical-align: middle;\n",
       "    }\n",
       "\n",
       "    .dataframe tbody tr th {\n",
       "        vertical-align: top;\n",
       "    }\n",
       "\n",
       "    .dataframe thead th {\n",
       "        text-align: right;\n",
       "    }\n",
       "</style>\n",
       "<table border=\"1\" class=\"dataframe\">\n",
       "  <thead>\n",
       "    <tr style=\"text-align: right;\">\n",
       "      <th></th>\n",
       "      <th>Publication Venue</th>\n",
       "      <th>Authors</th>\n",
       "    </tr>\n",
       "  </thead>\n",
       "  <tbody>\n",
       "    <tr>\n",
       "      <th>54777</th>\n",
       "      <td>On positive harris recurrence of multiclass queueing networks: a unified approach via fluid limi...</td>\n",
       "      <td>[J G Dai]</td>\n",
       "    </tr>\n",
       "    <tr>\n",
       "      <th>66246</th>\n",
       "      <td>Spatially invariant unsupervised object detection with convolutional neural networks</td>\n",
       "      <td>[E Crawford, J Pineau]</td>\n",
       "    </tr>\n",
       "    <tr>\n",
       "      <th>115321</th>\n",
       "      <td>Wecon Automatic Control Scheme of alarm system in Food Refrigeration Room</td>\n",
       "      <td>[]</td>\n",
       "    </tr>\n",
       "    <tr>\n",
       "      <th>61257</th>\n",
       "      <td>ACM Transactions on Applied Perception (TAP)</td>\n",
       "      <td>[Oleg Komogortsev, Corey Holland, Sampath Jayarathna, Alex Karpov, P J Phillips, F Jiang, A Narv...</td>\n",
       "    </tr>\n",
       "    <tr>\n",
       "      <th>129064</th>\n",
       "      <td>2010 IEEE International Conference on Methods and Models in Automation and Robotics</td>\n",
       "      <td>[D Schindele, H Aschemann]</td>\n",
       "    </tr>\n",
       "  </tbody>\n",
       "</table>\n",
       "</div>"
      ],
      "text/plain": [
       "                                                                                          Publication Venue  \\\n",
       "54777   On positive harris recurrence of multiclass queueing networks: a unified approach via fluid limi...   \n",
       "66246                  Spatially invariant unsupervised object detection with convolutional neural networks   \n",
       "115321                            Wecon Automatic Control Scheme of alarm system in Food Refrigeration Room   \n",
       "61257                                                          ACM Transactions on Applied Perception (TAP)   \n",
       "129064                  2010 IEEE International Conference on Methods and Models in Automation and Robotics   \n",
       "\n",
       "                                                                                                    Authors  \n",
       "54777                                                                                             [J G Dai]  \n",
       "66246                                                                                [E Crawford, J Pineau]  \n",
       "115321                                                                                                   []  \n",
       "61257   [Oleg Komogortsev, Corey Holland, Sampath Jayarathna, Alex Karpov, P J Phillips, F Jiang, A Narv...  \n",
       "129064                                                                           [D Schindele, H Aschemann]  "
      ]
     },
     "execution_count": 3,
     "metadata": {},
     "output_type": "execute_result"
    }
   ],
   "source": [
    "import json\n",
    "\n",
    "with open('publication.txt', 'r') as f:\n",
    "    d = json.loads(f.read())\n",
    "\n",
    "data = []\n",
    "for key in d.keys():\n",
    "    data.append({'Publication Venue': key, 'Authors': d[key]})\n",
    "\n",
    "publication_authors = pd.DataFrame(data)\n",
    "publication_authors.sample(10, random_state=56).sample(5)"
   ]
  },
  {
   "cell_type": "code",
   "execution_count": 6,
   "id": "d0dcd392",
   "metadata": {
    "tags": []
   },
   "outputs": [],
   "source": [
    "lst = list(publication_authors['Publication Venue'])"
   ]
  },
  {
   "cell_type": "code",
   "execution_count": 7,
   "id": "bc794294",
   "metadata": {
    "tags": []
   },
   "outputs": [
    {
     "name": "stdout",
     "output_type": "stream",
     "text": [
      "Shingle length: 154244\n",
      "Number of shingles 138575\n",
      "\n",
      "Time taken:  5.615 seconds\n"
     ]
    },
    {
     "data": {
      "text/plain": [
       "array([' ! h', ' ! m', ' ! t', ..., '™åˆ¶', '™ð‘¦', '™‚ä»'], dtype=object)"
      ]
     },
     "execution_count": 7,
     "metadata": {},
     "output_type": "execute_result"
    }
   ],
   "source": [
    "\"\"\"\n",
    "Experiments with shingling parameters.\n",
    "\n",
    "Note: Option ‘char_wb’ creates character n-grams only from text inside word boundaries; n-grams at the edges of words are padded with space.\n",
    "\"\"\"\n",
    "\n",
    "from sklearn.feature_extraction.text import CountVectorizer, TfidfVectorizer, HashingVectorizer\n",
    "import time\n",
    "\n",
    "vectorizer = CountVectorizer(\n",
    "    ngram_range=(shingling_parameter, shingling_parameter),\n",
    "    analyzer='char',                           # {‘word’, ‘char’, ‘char_wb’}\n",
    "    max_features=None\n",
    ")\n",
    "\n",
    "start_time = time.time()\n",
    "shingles = vectorizer.fit_transform(lst)\n",
    "end_time = time.time()\n",
    "\n",
    "try:\n",
    "    print(\"Shingle length:\", len(vectorizer.get_feature_names_out()))\n",
    "except:\n",
    "    print(\"Shingle length:\", vectorizer.get_params()['n_features'])\n",
    "\n",
    "print(\"Number of shingles\", shingles.shape[0])\n",
    "print()\n",
    "print(f\"Time taken: {end_time - start_time: 0.3f} seconds\")\n",
    "\n",
    "vectorizer.get_feature_names_out()"
   ]
  },
  {
   "cell_type": "code",
   "execution_count": 8,
   "id": "09c1a5cf",
   "metadata": {
    "tags": []
   },
   "outputs": [
    {
     "name": "stderr",
     "output_type": "stream",
     "text": [
      "23/04/25 19:21:26 WARN Utils: Your hostname, archcryptcraft resolves to a loopback address: 127.0.0.1; using 192.168.46.108 instead (on interface wlan0)\n",
      "23/04/25 19:21:26 WARN Utils: Set SPARK_LOCAL_IP if you need to bind to another address\n",
      "23/04/25 19:21:27 WARN SparkConf: The configuration key 'spark.scheduler.listenerbus.eventqueue.size' has been deprecated as of Spark 2.3 and may be removed in the future. Please use the new key 'spark.scheduler.listenerbus.eventqueue.capacity' instead.\n",
      "23/04/25 19:21:27 WARN SparkConf: The configuration key 'spark.scheduler.listenerbus.eventqueue.size' has been deprecated as of Spark 2.3 and may be removed in the future. Please use the new key 'spark.scheduler.listenerbus.eventqueue.capacity' instead.\n",
      "Setting default log level to \"WARN\".\n",
      "To adjust logging level use sc.setLogLevel(newLevel). For SparkR, use setLogLevel(newLevel).\n",
      "23/04/25 19:21:27 WARN SparkConf: The configuration key 'spark.scheduler.listenerbus.eventqueue.size' has been deprecated as of Spark 2.3 and may be removed in the future. Please use the new key 'spark.scheduler.listenerbus.eventqueue.capacity' instead.\n",
      "23/04/25 19:21:27 WARN SparkConf: The configuration key 'spark.scheduler.listenerbus.eventqueue.size' has been deprecated as of Spark 2.3 and may be removed in the future. Please use the new key 'spark.scheduler.listenerbus.eventqueue.capacity' instead.\n",
      "23/04/25 19:21:27 WARN SparkConf: The configuration key 'spark.scheduler.listenerbus.eventqueue.size' has been deprecated as of Spark 2.3 and may be removed in the future. Please use the new key 'spark.scheduler.listenerbus.eventqueue.capacity' instead.\n",
      "23/04/25 19:21:27 WARN NativeCodeLoader: Unable to load native-hadoop library for your platform... using builtin-java classes where applicable\n"
     ]
    }
   ],
   "source": [
    "import sys\n",
    "import os\n",
    "\n",
    "os.environ['PYSPARK_DRIVER_PYTHON_OPTS']= \"notebook\"\n",
    "os.environ['PYSPARK_DRIVER_PYTHON'] = sys.executable\n",
    "os.environ['PYSPARK_PYTHON'] = sys.executable\n",
    "\n",
    "from pyspark.ml.feature import MinHashLSH\n",
    "from pyspark.ml.linalg import Vectors\n",
    "from pyspark.sql.functions import col\n",
    "from pyspark.sql import SparkSession\n",
    "\n",
    "\n",
    "spark = SparkSession\\\n",
    ".builder\\\n",
    ".master(\"local[28]\")\\\n",
    ".config(\"spark.executor.memory\", \"21g\")\\\n",
    ".config(\"spark.driver.memory\", \"21g\")\\\n",
    ".config(\"spark.memory.offHeap.enabled\", True)\\\n",
    ".config(\"spark.memory.offHeap.size\",\"21g\")\\\n",
    ".config(\"spark.driver.maxResultSize\", \"21g\")\\\n",
    ".config(\"spark.python.worker.memory\", \"21g\")\\\n",
    ".config(\"spark.scheduler.listenerbus.eventqueue.size\", \"800000\")\\\n",
    ".appName(\"lsh\")\\\n",
    ".getOrCreate()"
   ]
  },
  {
   "cell_type": "code",
   "execution_count": 9,
   "id": "9109ce89",
   "metadata": {
    "tags": []
   },
   "outputs": [],
   "source": [
    "vector_length = len(vectorizer.get_feature_names_out())"
   ]
  },
  {
   "cell_type": "code",
   "execution_count": 10,
   "id": "6839291e-1b66-497e-b481-cbad1bbbb5b4",
   "metadata": {
    "tags": []
   },
   "outputs": [
    {
     "data": {
      "application/vnd.jupyter.widget-view+json": {
       "model_id": "7e808b3f3f2a48408201a10461af5e50",
       "version_major": 2,
       "version_minor": 0
      },
      "text/plain": [
       "  0%|          | 0/138575 [00:00<?, ?it/s]"
      ]
     },
     "metadata": {},
     "output_type": "display_data"
    },
    {
     "name": "stdout",
     "output_type": "stream",
     "text": [
      "number of shingles: 138235\n"
     ]
    }
   ],
   "source": [
    "from tqdm import notebook\n",
    "from tqdm.notebook import tqdm as tq\n",
    "\n",
    "shingles_d2 = []\n",
    "data_new = []\n",
    "publications_d2 = []\n",
    "mapping = {}\n",
    "j = 0\n",
    "\n",
    "for i in tq(range(shingles.shape[0])):\n",
    "    if shingles[i].getnnz() != 0:\n",
    "        shingles_d2.append(shingles[i])\n",
    "        publications_d2.append(lst[i])\n",
    "        mapping[j] = i\n",
    "        data_new.append(data[i])\n",
    "        j += 1\n",
    "\n",
    "print(\"number of shingles:\", len(shingles_d2))"
   ]
  },
  {
   "cell_type": "code",
   "execution_count": 11,
   "id": "13d89e07",
   "metadata": {
    "tags": []
   },
   "outputs": [
    {
     "data": {
      "application/vnd.jupyter.widget-view+json": {
       "model_id": "3aa9db4ff37648eb90bf655dcca2453d",
       "version_major": 2,
       "version_minor": 0
      },
      "text/plain": [
       "  0%|          | 0/138235 [00:00<?, ?it/s]"
      ]
     },
     "metadata": {},
     "output_type": "display_data"
    }
   ],
   "source": [
    "import random\n",
    "\n",
    "dataA = []\n",
    "\n",
    "for i in tq(range(len(shingles_d2))):\n",
    "    dataA.append((i, Vectors.sparse(vector_length, shingles_d2[i].T.nonzero()[0], shingles_d2[i].T[shingles_d2[i].T.nonzero()[0]].T.toarray()[0])))\n",
    "\n",
    "random.shuffle(dataA)"
   ]
  },
  {
   "cell_type": "code",
   "execution_count": 12,
   "id": "d59de837",
   "metadata": {
    "tags": []
   },
   "outputs": [
    {
     "name": "stdout",
     "output_type": "stream",
     "text": [
      "Time taken:  7.485 seconds\n"
     ]
    }
   ],
   "source": [
    "start_time = time.time()\n",
    "dfA = spark.createDataFrame(dataA[:], [\"id\", \"features\"])\n",
    "end_time = time.time()\n",
    "print(f\"Time taken: {end_time - start_time: 0.3f} seconds\")"
   ]
  },
  {
   "cell_type": "code",
   "execution_count": 13,
   "id": "3878b9ce",
   "metadata": {
    "tags": []
   },
   "outputs": [
    {
     "name": "stdout",
     "output_type": "stream",
     "text": [
      "Starting fit\n"
     ]
    },
    {
     "name": "stderr",
     "output_type": "stream",
     "text": [
      "23/04/25 19:23:44 WARN TaskSetManager: Stage 0 contains a task of very large size (2985 KiB). The maximum recommended task size is 1000 KiB.\n",
      "                                                                                \r"
     ]
    },
    {
     "name": "stdout",
     "output_type": "stream",
     "text": [
      "Time taken:  2.105 seconds\n"
     ]
    },
    {
     "name": "stderr",
     "output_type": "stream",
     "text": [
      "23/04/25 19:23:46 WARN SparkConf: The configuration key 'spark.scheduler.listenerbus.eventqueue.size' has been deprecated as of Spark 2.3 and may be removed in the future. Please use the new key 'spark.scheduler.listenerbus.eventqueue.capacity' instead.\n",
      "23/04/25 19:23:46 WARN TaskSetManager: Stage 1 contains a task of very large size (2985 KiB). The maximum recommended task size is 1000 KiB.\n"
     ]
    },
    {
     "name": "stdout",
     "output_type": "stream",
     "text": [
      "+------+--------------------+----------------+\n",
      "|    id|            features|          hashes|\n",
      "+------+--------------------+----------------+\n",
      "|  1117|(154244,[4267,446...|   [[1123923.0]]|\n",
      "| 72726|(154244,[4503,839...| [[1.6425451E7]]|\n",
      "|135823|(154244,[4586,469...| [[4.2242788E7]]|\n",
      "| 21247|(154244,[5339,534...|    [[686993.0]]|\n",
      "| 87535|(154244,[6451,813...|[[1.01531351E8]]|\n",
      "| 61764|(154244,[7386,857...| [[2.0712422E7]]|\n",
      "| 24404|(154244,[5613,106...|   [[2989029.0]]|\n",
      "| 98395|(154244,[51111,57...|[[4.43530399E8]]|\n",
      "| 40469|(154244,[80227,89...|[[3.56922687E8]]|\n",
      "|105383|(154244,[3182,497...|   [[2989029.0]]|\n",
      "|  7015|(154244,[115442],...|[[2.01618553E8]]|\n",
      "|  2461|(154244,[5759,609...| [[2.0226174E7]]|\n",
      "|106284|(154244,[4943,533...|   [[2989029.0]]|\n",
      "| 70118|(154244,[5166,566...|   [[1123923.0]]|\n",
      "| 89964|(154244,[9217,965...|[[1.71858789E8]]|\n",
      "| 62602|(154244,[8867,886...| [[5.4934554E7]]|\n",
      "|123913|(154244,[6474,805...|   [[1123923.0]]|\n",
      "| 51358|(154244,[5170,238...|[[2.01618553E8]]|\n",
      "|116639|(154244,[5287,557...| [[8.7251637E7]]|\n",
      "| 45320|(154244,[4931,516...| [[4.8210093E7]]|\n",
      "+------+--------------------+----------------+\n",
      "only showing top 20 rows\n",
      "\n"
     ]
    }
   ],
   "source": [
    "mh = MinHashLSH(inputCol=\"features\", outputCol=\"hashes\", numHashTables=numHashTables, seed=42)\n",
    "\n",
    "print(\"Starting fit\")\n",
    "start_time = time.time()\n",
    "model = mh.fit(dfA)\n",
    "end_time = time.time()\n",
    "print(f\"Time taken: {end_time - start_time: 0.3f} seconds\")\n",
    "\n",
    "model.transform(dfA).show()"
   ]
  },
  {
   "cell_type": "code",
   "execution_count": 14,
   "id": "3019570b",
   "metadata": {
    "tags": []
   },
   "outputs": [],
   "source": [
    "results = model.approxSimilarityJoin(dfA, dfA, 1 - spark_similarity_thresh, distCol=\"distance\")\\\n",
    "    .select(col(\"datasetA.id\").alias(\"idA\"),\n",
    "            col(\"datasetB.id\").alias(\"idB\"),\n",
    "            col(\"distance\"))"
   ]
  },
  {
   "cell_type": "code",
   "execution_count": 15,
   "id": "d036d3a5",
   "metadata": {
    "tags": []
   },
   "outputs": [
    {
     "name": "stderr",
     "output_type": "stream",
     "text": [
      "23/04/25 19:23:52 WARN TaskSetManager: Stage 2 contains a task of very large size (2985 KiB). The maximum recommended task size is 1000 KiB.\n",
      "23/04/25 19:23:56 WARN TaskSetManager: Stage 3 contains a task of very large size (2985 KiB). The maximum recommended task size is 1000 KiB.\n",
      "                                                                                \r"
     ]
    },
    {
     "name": "stdout",
     "output_type": "stream",
     "text": [
      "Time taken:  661.656 seconds\n"
     ]
    }
   ],
   "source": [
    "start_time = time.time()\n",
    "pd_results = results.toPandas()\n",
    "end_time = time.time()\n",
    "\n",
    "print(f\"Time taken: {end_time - start_time: 0.3f} seconds\")"
   ]
  },
  {
   "cell_type": "code",
   "execution_count": 16,
   "id": "d0114080",
   "metadata": {
    "tags": []
   },
   "outputs": [
    {
     "data": {
      "text/html": [
       "<div>\n",
       "<style scoped>\n",
       "    .dataframe tbody tr th:only-of-type {\n",
       "        vertical-align: middle;\n",
       "    }\n",
       "\n",
       "    .dataframe tbody tr th {\n",
       "        vertical-align: top;\n",
       "    }\n",
       "\n",
       "    .dataframe thead th {\n",
       "        text-align: right;\n",
       "    }\n",
       "</style>\n",
       "<table border=\"1\" class=\"dataframe\">\n",
       "  <thead>\n",
       "    <tr style=\"text-align: right;\">\n",
       "      <th></th>\n",
       "      <th>idA</th>\n",
       "      <th>idB</th>\n",
       "      <th>distance</th>\n",
       "    </tr>\n",
       "  </thead>\n",
       "  <tbody>\n",
       "    <tr>\n",
       "      <th>0</th>\n",
       "      <td>135450</td>\n",
       "      <td>135450</td>\n",
       "      <td>0.0</td>\n",
       "    </tr>\n",
       "    <tr>\n",
       "      <th>1</th>\n",
       "      <td>33358</td>\n",
       "      <td>33358</td>\n",
       "      <td>0.0</td>\n",
       "    </tr>\n",
       "    <tr>\n",
       "      <th>2</th>\n",
       "      <td>131299</td>\n",
       "      <td>131299</td>\n",
       "      <td>0.0</td>\n",
       "    </tr>\n",
       "    <tr>\n",
       "      <th>3</th>\n",
       "      <td>124803</td>\n",
       "      <td>124803</td>\n",
       "      <td>0.0</td>\n",
       "    </tr>\n",
       "    <tr>\n",
       "      <th>4</th>\n",
       "      <td>32570</td>\n",
       "      <td>32570</td>\n",
       "      <td>0.0</td>\n",
       "    </tr>\n",
       "    <tr>\n",
       "      <th>...</th>\n",
       "      <td>...</td>\n",
       "      <td>...</td>\n",
       "      <td>...</td>\n",
       "    </tr>\n",
       "    <tr>\n",
       "      <th>261800</th>\n",
       "      <td>125048</td>\n",
       "      <td>125048</td>\n",
       "      <td>0.0</td>\n",
       "    </tr>\n",
       "    <tr>\n",
       "      <th>261801</th>\n",
       "      <td>1644</td>\n",
       "      <td>1644</td>\n",
       "      <td>0.0</td>\n",
       "    </tr>\n",
       "    <tr>\n",
       "      <th>261802</th>\n",
       "      <td>71417</td>\n",
       "      <td>5467</td>\n",
       "      <td>0.0</td>\n",
       "    </tr>\n",
       "    <tr>\n",
       "      <th>261803</th>\n",
       "      <td>45875</td>\n",
       "      <td>45875</td>\n",
       "      <td>0.0</td>\n",
       "    </tr>\n",
       "    <tr>\n",
       "      <th>261804</th>\n",
       "      <td>25505</td>\n",
       "      <td>25505</td>\n",
       "      <td>0.0</td>\n",
       "    </tr>\n",
       "  </tbody>\n",
       "</table>\n",
       "<p>261805 rows × 3 columns</p>\n",
       "</div>"
      ],
      "text/plain": [
       "           idA     idB  distance\n",
       "0       135450  135450       0.0\n",
       "1        33358   33358       0.0\n",
       "2       131299  131299       0.0\n",
       "3       124803  124803       0.0\n",
       "4        32570   32570       0.0\n",
       "...        ...     ...       ...\n",
       "261800  125048  125048       0.0\n",
       "261801    1644    1644       0.0\n",
       "261802   71417    5467       0.0\n",
       "261803   45875   45875       0.0\n",
       "261804   25505   25505       0.0\n",
       "\n",
       "[261805 rows x 3 columns]"
      ]
     },
     "execution_count": 16,
     "metadata": {},
     "output_type": "execute_result"
    }
   ],
   "source": [
    "pd_results"
   ]
  },
  {
   "cell_type": "code",
   "execution_count": 17,
   "id": "2d013787",
   "metadata": {
    "tags": []
   },
   "outputs": [
    {
     "data": {
      "application/vnd.jupyter.widget-view+json": {
       "model_id": "2a836f8ebe1346c9a1f6f160e522dd36",
       "version_major": 2,
       "version_minor": 0
      },
      "text/plain": [
       "  0%|          | 0/261805 [00:00<?, ?it/s]"
      ]
     },
     "metadata": {},
     "output_type": "display_data"
    },
    {
     "data": {
      "text/html": [
       "<div>\n",
       "<style scoped>\n",
       "    .dataframe tbody tr th:only-of-type {\n",
       "        vertical-align: middle;\n",
       "    }\n",
       "\n",
       "    .dataframe tbody tr th {\n",
       "        vertical-align: top;\n",
       "    }\n",
       "\n",
       "    .dataframe thead th {\n",
       "        text-align: right;\n",
       "    }\n",
       "</style>\n",
       "<table border=\"1\" class=\"dataframe\">\n",
       "  <thead>\n",
       "    <tr style=\"text-align: right;\">\n",
       "      <th></th>\n",
       "      <th>i</th>\n",
       "      <th>j</th>\n",
       "      <th>similarity</th>\n",
       "      <th>i_venue</th>\n",
       "      <th>j_venue</th>\n",
       "      <th>i_authors</th>\n",
       "      <th>j_authors</th>\n",
       "      <th>i_venue_check</th>\n",
       "      <th>j_venue_check</th>\n",
       "    </tr>\n",
       "  </thead>\n",
       "  <tbody>\n",
       "    <tr>\n",
       "      <th>7</th>\n",
       "      <td>125576</td>\n",
       "      <td>137324</td>\n",
       "      <td>1.000000</td>\n",
       "      <td>Automatic detection of generated text is easiest when humans are fooled</td>\n",
       "      <td>Automatic Detection of Generated Text is Easiest when Humans are Fooled</td>\n",
       "      <td>[Daphne Ippolito, Daniel Duckworth, Chris Callison-Burch, Douglas Eck]</td>\n",
       "      <td>[Daphne Ippolito, Daniel Duckworth, Chris Callison-Burch, Douglas Eck]</td>\n",
       "      <td>Automatic detection of generated text is easiest when humans are fooled</td>\n",
       "      <td>Automatic Detection of Generated Text is Easiest when Humans are Fooled</td>\n",
       "    </tr>\n",
       "    <tr>\n",
       "      <th>9</th>\n",
       "      <td>7788</td>\n",
       "      <td>40625</td>\n",
       "      <td>1.000000</td>\n",
       "      <td>The augmented lagrange multiplier method for exact recovery of corrupted low-rank matrices</td>\n",
       "      <td>The augmented Lagrange multiplier method for exact recovery of corrupted low-rank matrices</td>\n",
       "      <td>[Z Lin, M Chen, L Wu, Y Ma, Z Lin, M Chen, Y Ma, Zhouchen Lin, Minming Chen, Yi Ma]</td>\n",
       "      <td>[M Lichman, Z Lin, M Chen, Y Ma, Z Lin, M Chen, L Wu, Y Ma]</td>\n",
       "      <td>The augmented lagrange multiplier method for exact recovery of corrupted low-rank matrices</td>\n",
       "      <td>The augmented Lagrange multiplier method for exact recovery of corrupted low-rank matrices</td>\n",
       "    </tr>\n",
       "    <tr>\n",
       "      <th>17</th>\n",
       "      <td>125451</td>\n",
       "      <td>127074</td>\n",
       "      <td>1.000000</td>\n",
       "      <td>ProxSkip: Yes! local gradient steps provably lead to communication acceleration! finally!</td>\n",
       "      <td>ProxSkip: Yes! Local gradient steps provably lead to communication acceleration! Finally!</td>\n",
       "      <td>[Konstantin Mishchenko, Grigory Malinovsky, Sebastian Stich, Peter RichtÃ¡rik]</td>\n",
       "      <td>[K Mishchenko, G Malinovsky, S Stich, P RichtÃ¡rik]</td>\n",
       "      <td>ProxSkip: Yes! local gradient steps provably lead to communication acceleration! finally!</td>\n",
       "      <td>ProxSkip: Yes! Local gradient steps provably lead to communication acceleration! Finally!</td>\n",
       "    </tr>\n",
       "    <tr>\n",
       "      <th>27</th>\n",
       "      <td>31449</td>\n",
       "      <td>40424</td>\n",
       "      <td>0.888889</td>\n",
       "      <td>Journal on Selected Areas in Communications</td>\n",
       "      <td>IEEE journal on selected areas in communications</td>\n",
       "      <td>[H S Ghadikolaei, F Boccardi, C Fischione, G Fodor, M Zorzi, D Guo, X Wang, Jiayue He, Mung Ma'a...</td>\n",
       "      <td>[W Shi, N Li, X Xie, C-C Chu, R Gadh, J R Barry, J M Kahn, W J Krause, E A Lee, D G Messerschmit...</td>\n",
       "      <td>Journal on Selected Areas in Communications</td>\n",
       "      <td>IEEE journal on selected areas in communications</td>\n",
       "    </tr>\n",
       "    <tr>\n",
       "      <th>28</th>\n",
       "      <td>5805</td>\n",
       "      <td>49020</td>\n",
       "      <td>1.000000</td>\n",
       "      <td>IEEE Journal on selected areas in communications</td>\n",
       "      <td>IEEE Journal on selected areas in Communications</td>\n",
       "      <td>[A Sabelfeld, A C Myers, J G Andrews, S Buzzi, W Choi, S V Hanly, A Lozano, A C Soong, J C Zhang...</td>\n",
       "      <td>[Q Ni, C C Zarakovitis]</td>\n",
       "      <td>IEEE Journal on selected areas in communications</td>\n",
       "      <td>IEEE Journal on selected areas in Communications</td>\n",
       "    </tr>\n",
       "    <tr>\n",
       "      <th>...</th>\n",
       "      <td>...</td>\n",
       "      <td>...</td>\n",
       "      <td>...</td>\n",
       "      <td>...</td>\n",
       "      <td>...</td>\n",
       "      <td>...</td>\n",
       "      <td>...</td>\n",
       "      <td>...</td>\n",
       "      <td>...</td>\n",
       "    </tr>\n",
       "    <tr>\n",
       "      <th>261773</th>\n",
       "      <td>54110</td>\n",
       "      <td>113739</td>\n",
       "      <td>0.898734</td>\n",
       "      <td>Proceedings of the SIGCHI conference on Human Factors in Computing Systems</td>\n",
       "      <td>Proceedings of the SIGCHI Conference on Human Factors in Computing Systems -CHI '93</td>\n",
       "      <td>[Clifford Nass, Min Kwan,  Lee, Sean Andrist, Tomislav Pejsa, Bilge Mutlu, Michael Gleicher, D S...</td>\n",
       "      <td>[Bonnie A Nardi, Heinrich Schwarz, Allan Kuchinsky, Robert Leichner, Steve Whittaker, Robert Scl...</td>\n",
       "      <td>Proceedings of the SIGCHI conference on Human Factors in Computing Systems</td>\n",
       "      <td>Proceedings of the SIGCHI Conference on Human Factors in Computing Systems -CHI '93</td>\n",
       "    </tr>\n",
       "    <tr>\n",
       "      <th>261780</th>\n",
       "      <td>57160</td>\n",
       "      <td>61129</td>\n",
       "      <td>0.882353</td>\n",
       "      <td>Cifar-10 (canadian institute for advanced research</td>\n",
       "      <td>CIFAR-100 (canadian institute for advanced research)</td>\n",
       "      <td>[A Krizhevsky, V Nair, G Hinton, Alex Krizhevsky, Vinod Nair, Geoffrey Hinton]</td>\n",
       "      <td>[Alex Krizhevsky, Vinod Nair, Geoffrey Hinton]</td>\n",
       "      <td>Cifar-10 (canadian institute for advanced research</td>\n",
       "      <td>CIFAR-100 (canadian institute for advanced research)</td>\n",
       "    </tr>\n",
       "    <tr>\n",
       "      <th>261787</th>\n",
       "      <td>6152</td>\n",
       "      <td>7906</td>\n",
       "      <td>0.864407</td>\n",
       "      <td>Proceedings of the 2005 ACM symposium on Applied computing</td>\n",
       "      <td>Proceedings of the 2009 ACM symposium on Applied Computing</td>\n",
       "      <td>[L Reeve, H Han]</td>\n",
       "      <td>[H Park]</td>\n",
       "      <td>Proceedings of the 2005 ACM symposium on Applied computing</td>\n",
       "      <td>Proceedings of the 2009 ACM symposium on Applied Computing</td>\n",
       "    </tr>\n",
       "    <tr>\n",
       "      <th>261791</th>\n",
       "      <td>22534</td>\n",
       "      <td>34268</td>\n",
       "      <td>0.902439</td>\n",
       "      <td>Proceedings of the IEEE International Symposium on Cluster Computing and the Grid</td>\n",
       "      <td>Proceedings of the 6th IEEE International Symposium on Cluster Computing and the Grid</td>\n",
       "      <td>[C L Dumitrescu, I Foster]</td>\n",
       "      <td>[A Poshtkuhi, A Abutalebi, L Ayough, S Hessabi]</td>\n",
       "      <td>Proceedings of the IEEE International Symposium on Cluster Computing and the Grid</td>\n",
       "      <td>Proceedings of the 6th IEEE International Symposium on Cluster Computing and the Grid</td>\n",
       "    </tr>\n",
       "    <tr>\n",
       "      <th>261792</th>\n",
       "      <td>7591</td>\n",
       "      <td>53522</td>\n",
       "      <td>0.857143</td>\n",
       "      <td>Pacific Symposium on Biocomputing</td>\n",
       "      <td>PACIFIC SYMPOSIUM ON BIOCOMPUTING 2017</td>\n",
       "      <td>[M Zhang, W Arndt, J Tang, C Leslie, E Eskin, W Noble, R Singh, J Xu, B Berger, A Ben-Hur, A Eli...</td>\n",
       "      <td>[J Lanchantin, R Singh, B Wang, Y Qi, P Danaee, R Ghaeini, D A Hendrix]</td>\n",
       "      <td>Pacific Symposium on Biocomputing</td>\n",
       "      <td>PACIFIC SYMPOSIUM ON BIOCOMPUTING 2017</td>\n",
       "    </tr>\n",
       "  </tbody>\n",
       "</table>\n",
       "<p>61785 rows × 9 columns</p>\n",
       "</div>"
      ],
      "text/plain": [
       "             i       j  similarity  \\\n",
       "7       125576  137324    1.000000   \n",
       "9         7788   40625    1.000000   \n",
       "17      125451  127074    1.000000   \n",
       "27       31449   40424    0.888889   \n",
       "28        5805   49020    1.000000   \n",
       "...        ...     ...         ...   \n",
       "261773   54110  113739    0.898734   \n",
       "261780   57160   61129    0.882353   \n",
       "261787    6152    7906    0.864407   \n",
       "261791   22534   34268    0.902439   \n",
       "261792    7591   53522    0.857143   \n",
       "\n",
       "                                                                                           i_venue  \\\n",
       "7                          Automatic detection of generated text is easiest when humans are fooled   \n",
       "9       The augmented lagrange multiplier method for exact recovery of corrupted low-rank matrices   \n",
       "17       ProxSkip: Yes! local gradient steps provably lead to communication acceleration! finally!   \n",
       "27                                                     Journal on Selected Areas in Communications   \n",
       "28                                                IEEE Journal on selected areas in communications   \n",
       "...                                                                                            ...   \n",
       "261773                  Proceedings of the SIGCHI conference on Human Factors in Computing Systems   \n",
       "261780                                          Cifar-10 (canadian institute for advanced research   \n",
       "261787                                  Proceedings of the 2005 ACM symposium on Applied computing   \n",
       "261791           Proceedings of the IEEE International Symposium on Cluster Computing and the Grid   \n",
       "261792                                                           Pacific Symposium on Biocomputing   \n",
       "\n",
       "                                                                                           j_venue  \\\n",
       "7                          Automatic Detection of Generated Text is Easiest when Humans are Fooled   \n",
       "9       The augmented Lagrange multiplier method for exact recovery of corrupted low-rank matrices   \n",
       "17       ProxSkip: Yes! Local gradient steps provably lead to communication acceleration! Finally!   \n",
       "27                                                IEEE journal on selected areas in communications   \n",
       "28                                                IEEE Journal on selected areas in Communications   \n",
       "...                                                                                            ...   \n",
       "261773         Proceedings of the SIGCHI Conference on Human Factors in Computing Systems -CHI '93   \n",
       "261780                                        CIFAR-100 (canadian institute for advanced research)   \n",
       "261787                                  Proceedings of the 2009 ACM symposium on Applied Computing   \n",
       "261791       Proceedings of the 6th IEEE International Symposium on Cluster Computing and the Grid   \n",
       "261792                                                      PACIFIC SYMPOSIUM ON BIOCOMPUTING 2017   \n",
       "\n",
       "                                                                                                  i_authors  \\\n",
       "7                                    [Daphne Ippolito, Daniel Duckworth, Chris Callison-Burch, Douglas Eck]   \n",
       "9                       [Z Lin, M Chen, L Wu, Y Ma, Z Lin, M Chen, Y Ma, Zhouchen Lin, Minming Chen, Yi Ma]   \n",
       "17                           [Konstantin Mishchenko, Grigory Malinovsky, Sebastian Stich, Peter RichtÃ¡rik]   \n",
       "27      [H S Ghadikolaei, F Boccardi, C Fischione, G Fodor, M Zorzi, D Guo, X Wang, Jiayue He, Mung Ma'a...   \n",
       "28      [A Sabelfeld, A C Myers, J G Andrews, S Buzzi, W Choi, S V Hanly, A Lozano, A C Soong, J C Zhang...   \n",
       "...                                                                                                     ...   \n",
       "261773  [Clifford Nass, Min Kwan,  Lee, Sean Andrist, Tomislav Pejsa, Bilge Mutlu, Michael Gleicher, D S...   \n",
       "261780                       [A Krizhevsky, V Nair, G Hinton, Alex Krizhevsky, Vinod Nair, Geoffrey Hinton]   \n",
       "261787                                                                                     [L Reeve, H Han]   \n",
       "261791                                                                           [C L Dumitrescu, I Foster]   \n",
       "261792  [M Zhang, W Arndt, J Tang, C Leslie, E Eskin, W Noble, R Singh, J Xu, B Berger, A Ben-Hur, A Eli...   \n",
       "\n",
       "                                                                                                  j_authors  \\\n",
       "7                                    [Daphne Ippolito, Daniel Duckworth, Chris Callison-Burch, Douglas Eck]   \n",
       "9                                               [M Lichman, Z Lin, M Chen, Y Ma, Z Lin, M Chen, L Wu, Y Ma]   \n",
       "17                                                      [K Mishchenko, G Malinovsky, S Stich, P RichtÃ¡rik]   \n",
       "27      [W Shi, N Li, X Xie, C-C Chu, R Gadh, J R Barry, J M Kahn, W J Krause, E A Lee, D G Messerschmit...   \n",
       "28                                                                                  [Q Ni, C C Zarakovitis]   \n",
       "...                                                                                                     ...   \n",
       "261773  [Bonnie A Nardi, Heinrich Schwarz, Allan Kuchinsky, Robert Leichner, Steve Whittaker, Robert Scl...   \n",
       "261780                                                       [Alex Krizhevsky, Vinod Nair, Geoffrey Hinton]   \n",
       "261787                                                                                             [H Park]   \n",
       "261791                                                      [A Poshtkuhi, A Abutalebi, L Ayough, S Hessabi]   \n",
       "261792                              [J Lanchantin, R Singh, B Wang, Y Qi, P Danaee, R Ghaeini, D A Hendrix]   \n",
       "\n",
       "                                                                                     i_venue_check  \\\n",
       "7                          Automatic detection of generated text is easiest when humans are fooled   \n",
       "9       The augmented lagrange multiplier method for exact recovery of corrupted low-rank matrices   \n",
       "17       ProxSkip: Yes! local gradient steps provably lead to communication acceleration! finally!   \n",
       "27                                                     Journal on Selected Areas in Communications   \n",
       "28                                                IEEE Journal on selected areas in communications   \n",
       "...                                                                                            ...   \n",
       "261773                  Proceedings of the SIGCHI conference on Human Factors in Computing Systems   \n",
       "261780                                          Cifar-10 (canadian institute for advanced research   \n",
       "261787                                  Proceedings of the 2005 ACM symposium on Applied computing   \n",
       "261791           Proceedings of the IEEE International Symposium on Cluster Computing and the Grid   \n",
       "261792                                                           Pacific Symposium on Biocomputing   \n",
       "\n",
       "                                                                                     j_venue_check  \n",
       "7                          Automatic Detection of Generated Text is Easiest when Humans are Fooled  \n",
       "9       The augmented Lagrange multiplier method for exact recovery of corrupted low-rank matrices  \n",
       "17       ProxSkip: Yes! Local gradient steps provably lead to communication acceleration! Finally!  \n",
       "27                                                IEEE journal on selected areas in communications  \n",
       "28                                                IEEE Journal on selected areas in Communications  \n",
       "...                                                                                            ...  \n",
       "261773         Proceedings of the SIGCHI Conference on Human Factors in Computing Systems -CHI '93  \n",
       "261780                                        CIFAR-100 (canadian institute for advanced research)  \n",
       "261787                                  Proceedings of the 2009 ACM symposium on Applied Computing  \n",
       "261791       Proceedings of the 6th IEEE International Symposium on Cluster Computing and the Grid  \n",
       "261792                                                      PACIFIC SYMPOSIUM ON BIOCOMPUTING 2017  \n",
       "\n",
       "[61785 rows x 9 columns]"
      ]
     },
     "execution_count": 17,
     "metadata": {},
     "output_type": "execute_result"
    }
   ],
   "source": [
    "results_w_titles = []\n",
    "\n",
    "for _, row in tq(pd_results.iterrows(), total=len(pd_results)):\n",
    "    i, j, dist = row['idA'], row['idB'], row['distance']\n",
    "    i, j = int(i), int(j)\n",
    "\n",
    "    results_w_titles.append({\n",
    "        'i': i,\n",
    "        'j': j,\n",
    "        'similarity': 1-dist,\n",
    "        'i_venue': publications_d2[i],\n",
    "        'j_venue': publications_d2[j],\n",
    "        'i_authors': data_new[i]['Authors'],\n",
    "        'j_authors': data_new[j]['Authors'],\n",
    "        'i_venue_check': data_new[i]['Publication Venue'],\n",
    "        'j_venue_check': data_new[j]['Publication Venue']\n",
    "    })\n",
    "\n",
    "results_df = pd.DataFrame(results_w_titles)\n",
    "results_df[results_df['i'] < results_df['j']]"
   ]
  },
  {
   "cell_type": "code",
   "execution_count": 18,
   "id": "6acfc716",
   "metadata": {
    "tags": []
   },
   "outputs": [],
   "source": [
    "import pickle\n",
    "\n",
    "with open(f\"results_{shingling_parameter}_{spark_similarity_thresh}_{numHashTables}.pkl\", 'wb') as file:\n",
    "    pickle.dump(results_df, file, protocol=pickle.HIGHEST_PROTOCOL)"
   ]
  },
  {
   "cell_type": "code",
   "execution_count": 19,
   "id": "7eba0ed6",
   "metadata": {
    "tags": []
   },
   "outputs": [],
   "source": [
    "import pickle\n",
    "\n",
    "with open(f\"results_{shingling_parameter}_{spark_similarity_thresh}_{numHashTables}.pkl\", 'rb') as file:\n",
    "    results_df = pickle.load(file)"
   ]
  },
  {
   "cell_type": "code",
   "execution_count": 44,
   "id": "c820cae3-9a72-4dc5-b392-98d99ff03102",
   "metadata": {
    "tags": []
   },
   "outputs": [],
   "source": [
    "def find_connected_components(dataframe):\n",
    "    components = []\n",
    "    adjacencyList = {}\n",
    "\n",
    "    for i, j in zip(dataframe['i'], dataframe['j']):\n",
    "        if i not in adjacencyList:\n",
    "            adjacencyList[i] = list()\n",
    "        \n",
    "        if j not in adjacencyList:\n",
    "            adjacencyList[j] = list()\n",
    "\n",
    "        adjacencyList[i].append(j)\n",
    "        adjacencyList[j].append(i)\n",
    "\n",
    "    visited = set()\n",
    "    explored = set()\n",
    "\n",
    "    def returnComponents(i):\n",
    "        if i in visited:  # Only count once\n",
    "            return []\n",
    "\n",
    "        visited.add(i)\n",
    "        members = [i]\n",
    "\n",
    "        for neighbour in adjacencyList.get(i, []):\n",
    "            members.extend(returnComponents(neighbour))\n",
    "\n",
    "        explored.add(i)\n",
    "\n",
    "        return members\n",
    "\n",
    "    for node in adjacencyList.keys():\n",
    "        members = returnComponents(node)\n",
    "        if len(members) > 1:\n",
    "            components.append(members)\n",
    "    \n",
    "    return components"
   ]
  },
  {
   "cell_type": "code",
   "execution_count": 45,
   "id": "d097319a-fdc5-484c-afdc-8fcd39c33aff",
   "metadata": {
    "tags": []
   },
   "outputs": [],
   "source": [
    "components = find_connected_components(results_df)"
   ]
  },
  {
   "cell_type": "code",
   "execution_count": 43,
   "id": "afe751e3-4019-4dda-b644-9958cb0644ee",
   "metadata": {
    "tags": []
   },
   "outputs": [
    {
     "data": {
      "text/plain": [
       "114990"
      ]
     },
     "execution_count": 43,
     "metadata": {},
     "output_type": "execute_result"
    }
   ],
   "source": [
    "len(components)"
   ]
  },
  {
   "cell_type": "code",
   "execution_count": 38,
   "id": "d2ea43f6-5656-4ed7-ac0c-f6670d90c064",
   "metadata": {
    "tags": []
   },
   "outputs": [
    {
     "data": {
      "text/plain": [
       "127954"
      ]
     },
     "execution_count": 38,
     "metadata": {},
     "output_type": "execute_result"
    }
   ],
   "source": [
    "138575 - len(components)"
   ]
  },
  {
   "cell_type": "code",
   "execution_count": 51,
   "id": "ca83b081-832f-40f7-8348-e4205f14803e",
   "metadata": {
    "tags": []
   },
   "outputs": [
    {
     "data": {
      "application/vnd.jupyter.widget-view+json": {
       "model_id": "b1abf9c102e54d18a736331874ae59a8",
       "version_major": 2,
       "version_minor": 0
      },
      "text/plain": [
       "  0%|          | 0/10621 [00:00<?, ?it/s]"
      ]
     },
     "metadata": {},
     "output_type": "display_data"
    },
    {
     "data": {
      "text/html": [
       "<div>\n",
       "<style scoped>\n",
       "    .dataframe tbody tr th:only-of-type {\n",
       "        vertical-align: middle;\n",
       "    }\n",
       "\n",
       "    .dataframe tbody tr th {\n",
       "        vertical-align: top;\n",
       "    }\n",
       "\n",
       "    .dataframe thead th {\n",
       "        text-align: right;\n",
       "    }\n",
       "</style>\n",
       "<table border=\"1\" class=\"dataframe\">\n",
       "  <thead>\n",
       "    <tr style=\"text-align: right;\">\n",
       "      <th></th>\n",
       "      <th>Publication Venue</th>\n",
       "      <th>Authors</th>\n",
       "      <th>Authors_N</th>\n",
       "    </tr>\n",
       "  </thead>\n",
       "  <tbody>\n",
       "    <tr>\n",
       "      <th>0</th>\n",
       "      <td>J Numer Math</td>\n",
       "      <td>[D Arndt, Reza Shokri, Marco Stronati, Congzheng Song, Vitaly Shmatikov]</td>\n",
       "      <td>5</td>\n",
       "    </tr>\n",
       "    <tr>\n",
       "      <th>1</th>\n",
       "      <td>CugLM Model</td>\n",
       "      <td>[H G Lee, S M Yoo, W M Farmer, Rajeev Alur, Thomas A Henzinger]</td>\n",
       "      <td>5</td>\n",
       "    </tr>\n",
       "    <tr>\n",
       "      <th>2</th>\n",
       "      <td>Accounting for unobserved confounding in domain generalization</td>\n",
       "      <td>[A Bellot, M Van Der Schaar, T Sun, M Segu, J Postels, Y Wang, L Van Gool, B Schiele, F Tombari,...</td>\n",
       "      <td>10</td>\n",
       "    </tr>\n",
       "    <tr>\n",
       "      <th>3</th>\n",
       "      <td>International Journal of Project Management</td>\n",
       "      <td>[C Berggren, J SÃ¶derlund, J Thomas, T Mengel, E Osipova, P E Eriksson, M Loosemore, N Andonakis...</td>\n",
       "      <td>26</td>\n",
       "    </tr>\n",
       "    <tr>\n",
       "      <th>4</th>\n",
       "      <td>Bayesian recurrent neural networks</td>\n",
       "      <td>[M Fortunato, C Blundell, O Vinyals, X Yin, W Tan, C Liu]</td>\n",
       "      <td>6</td>\n",
       "    </tr>\n",
       "    <tr>\n",
       "      <th>...</th>\n",
       "      <td>...</td>\n",
       "      <td>...</td>\n",
       "      <td>...</td>\n",
       "    </tr>\n",
       "    <tr>\n",
       "      <th>10616</th>\n",
       "      <td>International Journal on Document Analysis and Recognition (IJDAR'98)</td>\n",
       "      <td>[Jonathan J Hull, Sergey Mechtaev, Jooyong Yi, Abhik Roychoudhury, S Mechtaev, J Yi, A Roychoudh...</td>\n",
       "      <td>7</td>\n",
       "    </tr>\n",
       "    <tr>\n",
       "      <th>10617</th>\n",
       "      <td>IEEE transactions on evolutionary computation</td>\n",
       "      <td>[E Zitzler, L Thiele, M Laumanns, C M Fonseca, Grunert Da Fonseca, V, K Deb, A Pratap, S Agarwal...</td>\n",
       "      <td>56</td>\n",
       "    </tr>\n",
       "    <tr>\n",
       "      <th>10618</th>\n",
       "      <td>Math. Model</td>\n",
       "      <td>[S Mochen, G Csurka, C Dance, L Fan, J Willamowski, C ; Bray, R Datta, Jz ; Wang, R Mir Datta, D...</td>\n",
       "      <td>31</td>\n",
       "    </tr>\n",
       "    <tr>\n",
       "      <th>10619</th>\n",
       "      <td>Proceedings of the 29th ACM International Conference on Information and Knowledge Management (CI...</td>\n",
       "      <td>[Oliver Benedek Rozemberczki, Rik Kiss,  Sarkar, Benedek Rozemberczki, Rik Sarkar, Yana Momchilo...</td>\n",
       "      <td>9</td>\n",
       "    </tr>\n",
       "    <tr>\n",
       "      <th>10620</th>\n",
       "      <td>Divide and conquer: Question-guided spatiotemporal contextual attention for video question answe...</td>\n",
       "      <td>[Jianwen Jiang, Ziqiang Chen, Haojie Lin, Xibin Zhao, Yue Gao, C K Bernard, Anita W P Choi,  Pak]</td>\n",
       "      <td>8</td>\n",
       "    </tr>\n",
       "  </tbody>\n",
       "</table>\n",
       "<p>10621 rows × 3 columns</p>\n",
       "</div>"
      ],
      "text/plain": [
       "                                                                                         Publication Venue  \\\n",
       "0                                                                                             J Numer Math   \n",
       "1                                                                                              CugLM Model   \n",
       "2                                           Accounting for unobserved confounding in domain generalization   \n",
       "3                                                              International Journal of Project Management   \n",
       "4                                                                       Bayesian recurrent neural networks   \n",
       "...                                                                                                    ...   \n",
       "10616                                International Journal on Document Analysis and Recognition (IJDAR'98)   \n",
       "10617                                                        IEEE transactions on evolutionary computation   \n",
       "10618                                                                                          Math. Model   \n",
       "10619  Proceedings of the 29th ACM International Conference on Information and Knowledge Management (CI...   \n",
       "10620  Divide and conquer: Question-guided spatiotemporal contextual attention for video question answe...   \n",
       "\n",
       "                                                                                                   Authors  \\\n",
       "0                                 [D Arndt, Reza Shokri, Marco Stronati, Congzheng Song, Vitaly Shmatikov]   \n",
       "1                                          [H G Lee, S M Yoo, W M Farmer, Rajeev Alur, Thomas A Henzinger]   \n",
       "2      [A Bellot, M Van Der Schaar, T Sun, M Segu, J Postels, Y Wang, L Van Gool, B Schiele, F Tombari,...   \n",
       "3      [C Berggren, J SÃ¶derlund, J Thomas, T Mengel, E Osipova, P E Eriksson, M Loosemore, N Andonakis...   \n",
       "4                                                [M Fortunato, C Blundell, O Vinyals, X Yin, W Tan, C Liu]   \n",
       "...                                                                                                    ...   \n",
       "10616  [Jonathan J Hull, Sergey Mechtaev, Jooyong Yi, Abhik Roychoudhury, S Mechtaev, J Yi, A Roychoudh...   \n",
       "10617  [E Zitzler, L Thiele, M Laumanns, C M Fonseca, Grunert Da Fonseca, V, K Deb, A Pratap, S Agarwal...   \n",
       "10618  [S Mochen, G Csurka, C Dance, L Fan, J Willamowski, C ; Bray, R Datta, Jz ; Wang, R Mir Datta, D...   \n",
       "10619  [Oliver Benedek Rozemberczki, Rik Kiss,  Sarkar, Benedek Rozemberczki, Rik Sarkar, Yana Momchilo...   \n",
       "10620    [Jianwen Jiang, Ziqiang Chen, Haojie Lin, Xibin Zhao, Yue Gao, C K Bernard, Anita W P Choi,  Pak]   \n",
       "\n",
       "       Authors_N  \n",
       "0              5  \n",
       "1              5  \n",
       "2             10  \n",
       "3             26  \n",
       "4              6  \n",
       "...          ...  \n",
       "10616          7  \n",
       "10617         56  \n",
       "10618         31  \n",
       "10619          9  \n",
       "10620          8  \n",
       "\n",
       "[10621 rows x 3 columns]"
      ]
     },
     "execution_count": 51,
     "metadata": {},
     "output_type": "execute_result"
    }
   ],
   "source": [
    "from tqdm.notebook import tqdm\n",
    "\n",
    "data_new = []\n",
    "\n",
    "for component in tqdm(components):\n",
    "    base_venue = publication_authors.iloc[component[0]]['Publication Venue']\n",
    "    authors_merged = []\n",
    "    \n",
    "    for i in component:\n",
    "        authors = publication_authors.iloc[i]['Authors']\n",
    "        authors_merged.extend(authors)\n",
    "        \n",
    "    data_new.append({'Publication Venue': base_venue, 'Authors': authors_merged, 'Authors_N': len(authors_merged)})\n",
    "\n",
    "df_final = pd.DataFrame(data_new)\n",
    "df_final"
   ]
  },
  {
   "cell_type": "code",
   "execution_count": 55,
   "id": "bb7bce00-f8ad-453b-a937-d31ddf53e1dc",
   "metadata": {
    "tags": []
   },
   "outputs": [
    {
     "data": {
      "text/html": [
       "<div>\n",
       "<style scoped>\n",
       "    .dataframe tbody tr th:only-of-type {\n",
       "        vertical-align: middle;\n",
       "    }\n",
       "\n",
       "    .dataframe tbody tr th {\n",
       "        vertical-align: top;\n",
       "    }\n",
       "\n",
       "    .dataframe thead th {\n",
       "        text-align: right;\n",
       "    }\n",
       "</style>\n",
       "<table border=\"1\" class=\"dataframe\">\n",
       "  <thead>\n",
       "    <tr style=\"text-align: right;\">\n",
       "      <th></th>\n",
       "      <th>Publication Venue</th>\n",
       "      <th>Authors</th>\n",
       "      <th>Authors_N</th>\n",
       "    </tr>\n",
       "  </thead>\n",
       "  <tbody>\n",
       "    <tr>\n",
       "      <th>10171</th>\n",
       "      <td>IEEE Conferences on Networking and Media Convergence</td>\n",
       "      <td>[T F Ghanem, W S Elkiliani, M Hadhoud, R Rifkin, A Klatau, Peter Auer, Ron Begleiter, Ran El-Yan...</td>\n",
       "      <td>4932</td>\n",
       "    </tr>\n",
       "    <tr>\n",
       "      <th>692</th>\n",
       "      <td>Unique in the crowd: The privacy bounds of human mobility. Scientific reports</td>\n",
       "      <td>[Y.-A De Montjoye, C A Hidalgo, M Verleysen, V D Blondel, D SchlichthÃ¤rle, A Spena, G D'angioli...</td>\n",
       "      <td>4275</td>\n",
       "    </tr>\n",
       "    <tr>\n",
       "      <th>5761</th>\n",
       "      <td>IEEE Access</td>\n",
       "      <td>[S Parhizi, H Lotfi, A Khodaei, S Bahramirad, A Arab, A Khodaei, S K Khator, T Rappaport, S Sun,...</td>\n",
       "      <td>4076</td>\n",
       "    </tr>\n",
       "    <tr>\n",
       "      <th>8590</th>\n",
       "      <td>Proceedings of the 3rd International Workshop on Search and Mining User-Generated Contents</td>\n",
       "      <td>[S Kinsella, V Murdock, N O'hare,  Authors, Antoine Bordes, LÃ©on Bottou, Patrick Gallinari, Jas...</td>\n",
       "      <td>3932</td>\n",
       "    </tr>\n",
       "    <tr>\n",
       "      <th>3478</th>\n",
       "      <td>Phase transitions in the coloring of random graphs</td>\n",
       "      <td>[L ZdeborovÃ¡, F Krzakala, I Filippidis, D V Dimarogonas, K J Kyriakopoulos, S G Loizou, K J Kyr...</td>\n",
       "      <td>3684</td>\n",
       "    </tr>\n",
       "    <tr>\n",
       "      <th>4743</th>\n",
       "      <td>IEEE Trans. Inf. Theory</td>\n",
       "      <td>[A F Dana, B Hassibi, T Cover, A El Gamal, G Kramer, M Gastpar, P Gupta, P Gupta, P R Kumar, M G...</td>\n",
       "      <td>2868</td>\n",
       "    </tr>\n",
       "    <tr>\n",
       "      <th>927</th>\n",
       "      <td>IEEE Transactions on Information Theory</td>\n",
       "      <td>[R J Solomonoff, T M Cover, P Hart, L GyÃ¶rfi, G Morvai, S Yakowitz, A KrzyÅ¼ak, M Pawlak, R Gra...</td>\n",
       "      <td>2725</td>\n",
       "    </tr>\n",
       "    <tr>\n",
       "      <th>4886</th>\n",
       "      <td>Foundation and Trends in Machine Learning</td>\n",
       "      <td>[S Bubeck, N Cesa-Bianchi, Thomas Erneux, Julien Javaloyes, Matthias Wolfrum, Serhiy Yanchuk, A ...</td>\n",
       "      <td>2540</td>\n",
       "    </tr>\n",
       "    <tr>\n",
       "      <th>279</th>\n",
       "      <td>Workshop on Algorithmic Foundations of Robotics</td>\n",
       "      <td>[K Leung, N ArÃ©chiga, M Pavone, M Alviano, F Calimeri, C Dodaro, D FuscÃ , N Leone, S Perri, F ...</td>\n",
       "      <td>2332</td>\n",
       "    </tr>\n",
       "    <tr>\n",
       "      <th>5667</th>\n",
       "      <td>Uniswap v3 core</td>\n",
       "      <td>[Hayden Adams, Noah Zinsmeister, Moody Salem, River Keefer, Dan Robinson, V Dignum, Ravi Ganti, ...</td>\n",
       "      <td>2328</td>\n",
       "    </tr>\n",
       "    <tr>\n",
       "      <th>695</th>\n",
       "      <td>ser. Symposia on VLSI Technology and Circuits</td>\n",
       "      <td>[S Satpathy, R Dreslinski, D S T Ou, T Mudge, D Blaauw, W Scott, Ryan P Linderman,  Adams, S KrÃ...</td>\n",
       "      <td>2210</td>\n",
       "    </tr>\n",
       "    <tr>\n",
       "      <th>1040</th>\n",
       "      <td>Journal of Computational Physics</td>\n",
       "      <td>[M Berger, P Collela, M Berger, J Oliger, A Khokhlov, T Miyoshi, K Kusano, D J Price, P Van Than...</td>\n",
       "      <td>1884</td>\n",
       "    </tr>\n",
       "    <tr>\n",
       "      <th>2121</th>\n",
       "      <td>IEEE Trans. Wireless Commun</td>\n",
       "      <td>[H BÃ¶lcskei, R U Nabar, Ã– Oyman, A J Paulraj, C K Au-Yeung, D J Love, S Pun, D R Brown, Iii, H...</td>\n",
       "      <td>1652</td>\n",
       "    </tr>\n",
       "    <tr>\n",
       "      <th>1836</th>\n",
       "      <td>Journal of Advanced Science and Technology</td>\n",
       "      <td>[S Roy, R Bose, D Sarddar, Kaiming He, Xiangyu Zhang, Shaoqing Ren, Jian Sun, Tu ; Xie, S Xie, Z...</td>\n",
       "      <td>1636</td>\n",
       "    </tr>\n",
       "    <tr>\n",
       "      <th>892</th>\n",
       "      <td>International conference on machine learning</td>\n",
       "      <td>[V Nair, G E Hinton, O Shamir, N Srebro, T Zhang, Y Zhang, X Lin, S Ioffe, C Szegedy, Ilya Sutsk...</td>\n",
       "      <td>1517</td>\n",
       "    </tr>\n",
       "    <tr>\n",
       "      <th>1296</th>\n",
       "      <td>Macroeconomic Dynamics</td>\n",
       "      <td>[R Cont, J P Bouchaud, K Koutroumbas, S Theodoridis, S Theodoridis, K Koutroumbas, M A Grudin, A...</td>\n",
       "      <td>1445</td>\n",
       "    </tr>\n",
       "    <tr>\n",
       "      <th>1806</th>\n",
       "      <td>A Collaborative Informatics Infrastructure for Multi-scale Science</td>\n",
       "      <td>[L Moreau, J Freire, R E Mcgrath, J Myers, J Futrelle, P Paulson, J D Allison, T C Bittner, S Di...</td>\n",
       "      <td>1426</td>\n",
       "    </tr>\n",
       "    <tr>\n",
       "      <th>2814</th>\n",
       "      <td>Clinical Psychological Science</td>\n",
       "      <td>[T V Wiecki, J Poland, M J Frank, S Epskamp, C D Van Borkulo, D C Van Der Veen, M N Servaas, A M...</td>\n",
       "      <td>1385</td>\n",
       "    </tr>\n",
       "    <tr>\n",
       "      <th>571</th>\n",
       "      <td>Methodological implications of social media as a research setting for IS healthcare studies: ref...</td>\n",
       "      <td>[H Pousti, C Urquhart, F Burstein, H Linger, W Wolf, A Burgess, T Nhan, C Moffatt, A L Klibanov,...</td>\n",
       "      <td>1327</td>\n",
       "    </tr>\n",
       "    <tr>\n",
       "      <th>6668</th>\n",
       "      <td>Economics and Philosophy</td>\n",
       "      <td>[Kenneth Binmore, H Park, M V D Schaar, N H Lehmann, E Fishler, A M Haimovich, K T Phan, S A Vor...</td>\n",
       "      <td>1306</td>\n",
       "    </tr>\n",
       "  </tbody>\n",
       "</table>\n",
       "</div>"
      ],
      "text/plain": [
       "                                                                                         Publication Venue  \\\n",
       "10171                                                 IEEE Conferences on Networking and Media Convergence   \n",
       "692                          Unique in the crowd: The privacy bounds of human mobility. Scientific reports   \n",
       "5761                                                                                           IEEE Access   \n",
       "8590            Proceedings of the 3rd International Workshop on Search and Mining User-Generated Contents   \n",
       "3478                                                    Phase transitions in the coloring of random graphs   \n",
       "4743                                                                               IEEE Trans. Inf. Theory   \n",
       "927                                                                IEEE Transactions on Information Theory   \n",
       "4886                                                             Foundation and Trends in Machine Learning   \n",
       "279                                                        Workshop on Algorithmic Foundations of Robotics   \n",
       "5667                                                                                       Uniswap v3 core   \n",
       "695                                                          ser. Symposia on VLSI Technology and Circuits   \n",
       "1040                                                                      Journal of Computational Physics   \n",
       "2121                                                                           IEEE Trans. Wireless Commun   \n",
       "1836                                                            Journal of Advanced Science and Technology   \n",
       "892                                                           International conference on machine learning   \n",
       "1296                                                                                Macroeconomic Dynamics   \n",
       "1806                                    A Collaborative Informatics Infrastructure for Multi-scale Science   \n",
       "2814                                                                        Clinical Psychological Science   \n",
       "571    Methodological implications of social media as a research setting for IS healthcare studies: ref...   \n",
       "6668                                                                              Economics and Philosophy   \n",
       "\n",
       "                                                                                                   Authors  \\\n",
       "10171  [T F Ghanem, W S Elkiliani, M Hadhoud, R Rifkin, A Klatau, Peter Auer, Ron Begleiter, Ran El-Yan...   \n",
       "692    [Y.-A De Montjoye, C A Hidalgo, M Verleysen, V D Blondel, D SchlichthÃ¤rle, A Spena, G D'angioli...   \n",
       "5761   [S Parhizi, H Lotfi, A Khodaei, S Bahramirad, A Arab, A Khodaei, S K Khator, T Rappaport, S Sun,...   \n",
       "8590   [S Kinsella, V Murdock, N O'hare,  Authors, Antoine Bordes, LÃ©on Bottou, Patrick Gallinari, Jas...   \n",
       "3478   [L ZdeborovÃ¡, F Krzakala, I Filippidis, D V Dimarogonas, K J Kyriakopoulos, S G Loizou, K J Kyr...   \n",
       "4743   [A F Dana, B Hassibi, T Cover, A El Gamal, G Kramer, M Gastpar, P Gupta, P Gupta, P R Kumar, M G...   \n",
       "927    [R J Solomonoff, T M Cover, P Hart, L GyÃ¶rfi, G Morvai, S Yakowitz, A KrzyÅ¼ak, M Pawlak, R Gra...   \n",
       "4886   [S Bubeck, N Cesa-Bianchi, Thomas Erneux, Julien Javaloyes, Matthias Wolfrum, Serhiy Yanchuk, A ...   \n",
       "279    [K Leung, N ArÃ©chiga, M Pavone, M Alviano, F Calimeri, C Dodaro, D FuscÃ , N Leone, S Perri, F ...   \n",
       "5667   [Hayden Adams, Noah Zinsmeister, Moody Salem, River Keefer, Dan Robinson, V Dignum, Ravi Ganti, ...   \n",
       "695    [S Satpathy, R Dreslinski, D S T Ou, T Mudge, D Blaauw, W Scott, Ryan P Linderman,  Adams, S KrÃ...   \n",
       "1040   [M Berger, P Collela, M Berger, J Oliger, A Khokhlov, T Miyoshi, K Kusano, D J Price, P Van Than...   \n",
       "2121   [H BÃ¶lcskei, R U Nabar, Ã– Oyman, A J Paulraj, C K Au-Yeung, D J Love, S Pun, D R Brown, Iii, H...   \n",
       "1836   [S Roy, R Bose, D Sarddar, Kaiming He, Xiangyu Zhang, Shaoqing Ren, Jian Sun, Tu ; Xie, S Xie, Z...   \n",
       "892    [V Nair, G E Hinton, O Shamir, N Srebro, T Zhang, Y Zhang, X Lin, S Ioffe, C Szegedy, Ilya Sutsk...   \n",
       "1296   [R Cont, J P Bouchaud, K Koutroumbas, S Theodoridis, S Theodoridis, K Koutroumbas, M A Grudin, A...   \n",
       "1806   [L Moreau, J Freire, R E Mcgrath, J Myers, J Futrelle, P Paulson, J D Allison, T C Bittner, S Di...   \n",
       "2814   [T V Wiecki, J Poland, M J Frank, S Epskamp, C D Van Borkulo, D C Van Der Veen, M N Servaas, A M...   \n",
       "571    [H Pousti, C Urquhart, F Burstein, H Linger, W Wolf, A Burgess, T Nhan, C Moffatt, A L Klibanov,...   \n",
       "6668   [Kenneth Binmore, H Park, M V D Schaar, N H Lehmann, E Fishler, A M Haimovich, K T Phan, S A Vor...   \n",
       "\n",
       "       Authors_N  \n",
       "10171       4932  \n",
       "692         4275  \n",
       "5761        4076  \n",
       "8590        3932  \n",
       "3478        3684  \n",
       "4743        2868  \n",
       "927         2725  \n",
       "4886        2540  \n",
       "279         2332  \n",
       "5667        2328  \n",
       "695         2210  \n",
       "1040        1884  \n",
       "2121        1652  \n",
       "1836        1636  \n",
       "892         1517  \n",
       "1296        1445  \n",
       "1806        1426  \n",
       "2814        1385  \n",
       "571         1327  \n",
       "6668        1306  "
      ]
     },
     "execution_count": 55,
     "metadata": {},
     "output_type": "execute_result"
    }
   ],
   "source": [
    "df_final.sort_values(by='Authors_N', ascending=False).head(20)"
   ]
  },
  {
   "cell_type": "code",
   "execution_count": 56,
   "id": "ec2efa83-e91b-4cd1-8642-9e7d4a801852",
   "metadata": {
    "tags": []
   },
   "outputs": [],
   "source": [
    "import pickle\n",
    "\n",
    "with open(\"results_components.pkl\", 'wb') as file:\n",
    "    pickle.dump(df_final, file, protocol=pickle.HIGHEST_PROTOCOL)"
   ]
  }
 ],
 "metadata": {
  "kernelspec": {
   "display_name": "Python 3 (ipykernel)",
   "language": "python",
   "name": "python3"
  },
  "language_info": {
   "codemirror_mode": {
    "name": "ipython",
    "version": 3
   },
   "file_extension": ".py",
   "mimetype": "text/x-python",
   "name": "python",
   "nbconvert_exporter": "python",
   "pygments_lexer": "ipython3",
   "version": "3.10.10"
  }
 },
 "nbformat": 4,
 "nbformat_minor": 5
}
